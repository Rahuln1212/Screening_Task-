{
 "cells": [
  {
   "cell_type": "code",
   "execution_count": 1,
   "id": "58d24ede",
   "metadata": {},
   "outputs": [
    {
     "name": "stdout",
     "output_type": "stream",
     "text": [
      "Requirement already satisfied: prettytable in c:\\users\\hp\\anaconda3\\lib\\site-packages (3.7.0)\n",
      "Requirement already satisfied: wcwidth in c:\\users\\hp\\anaconda3\\lib\\site-packages (from prettytable) (0.2.5)\n"
     ]
    }
   ],
   "source": [
    "#Installing Prettytable for a table View\n",
    "\n",
    "!pip install prettytable\n",
    "from prettytable import PrettyTable"
   ]
  },
  {
   "cell_type": "code",
   "execution_count": 2,
   "id": "fba17475",
   "metadata": {},
   "outputs": [
    {
     "name": "stdout",
     "output_type": "stream",
     "text": [
      "+--------------+-------+\n",
      "| Product Name | Price |\n",
      "+--------------+-------+\n",
      "|  Product A   |  $20  |\n",
      "|  Product B   |  $40  |\n",
      "|  Product C   |  $50  |\n",
      "+--------------+-------+\n"
     ]
    }
   ],
   "source": [
    "#Creating Table\n",
    "\n",
    "table = PrettyTable()\n",
    "table.field_names = [\"Product Name\", \"Price\"]\n",
    "table.add_row([\"Product A\", \"$20\"])\n",
    "table.add_row([\"Product B\", \"$40\"])\n",
    "table.add_row([\"Product C\", \"$50\"])\n",
    "print(table)"
   ]
  },
  {
   "cell_type": "code",
   "execution_count": 3,
   "id": "afe416d0",
   "metadata": {},
   "outputs": [],
   "source": [
    "Products = [\n",
    "    {'name': 'Product A','Price $': 20},\n",
    "    {'name': 'Product B','Price $': 40},\n",
    "    {'name': 'Product C','Price $': 40}]"
   ]
  },
  {
   "cell_type": "code",
   "execution_count": 4,
   "id": "99f88f95",
   "metadata": {},
   "outputs": [
    {
     "data": {
      "text/plain": [
       "[{'name': 'Product A', 'Price $': 20},\n",
       " {'name': 'Product B', 'Price $': 40},\n",
       " {'name': 'Product C', 'Price $': 40}]"
      ]
     },
     "execution_count": 4,
     "metadata": {},
     "output_type": "execute_result"
    }
   ],
   "source": [
    "Products"
   ]
  },
  {
   "cell_type": "code",
   "execution_count": 5,
   "id": "b93e66e2",
   "metadata": {},
   "outputs": [
    {
     "name": "stdout",
     "output_type": "stream",
     "text": [
      "Quantity of product A= 15\n",
      "Do you want to wrap Product A as a gift? (yes/no) :yes\n",
      "Quantity of product B= 9\n",
      "Do you want to wrap Product B as a gift? (yes/no) : no\n",
      "Quantity of product C= 12\n",
      "Do you want to wrap Product C as a gift? (yes/no) :yes\n"
     ]
    }
   ],
   "source": [
    "#Product and Quantity Details\n",
    "#Here we can enter Product quantity and whether the product need gift wrap\n",
    "\n",
    "count_of_product_A=int(input(\"Quantity of product A= \"))\n",
    "total_price_of_product_A=count_of_product_A*20\n",
    "gift_wrap_for_Product_A=input(\"Do you want to wrap Product A as a gift? (yes/no) :\")\n",
    "\n",
    "\n",
    "count_of_product_B=int(input(\"Quantity of product B= \"))\n",
    "total_price_of_product_B=count_of_product_B*40\n",
    "gift_wrap_for_Product_B=input(\"Do you want to wrap Product B as a gift? (yes/no) : \")\n",
    "\n",
    "count_of_product_C=int(input(\"Quantity of product C= \"))\n",
    "total_price_of_product_C=count_of_product_C*50\n",
    "gift_wrap_for_Product_C=input(\"Do you want to wrap Product C as a gift? (yes/no) :\")\n",
    "\n",
    "total_quantity=count_of_product_A+count_of_product_B+count_of_product_C\n",
    "cart_total=total_price_of_product_A+total_price_of_product_B+total_price_of_product_C"
   ]
  },
  {
   "cell_type": "code",
   "execution_count": 6,
   "id": "91be7bed",
   "metadata": {},
   "outputs": [],
   "source": [
    "total_price_of_product_A=count_of_product_A*20\n",
    "total_price_of_product_B=count_of_product_B*40\n",
    "total_price_of_product_C=count_of_product_C*50\n",
    "\n",
    "if gift_wrap_for_Product_A==\"yes\":\n",
    "    wrap_A=count_of_product_A\n",
    "else:\n",
    "    wrap_A=0\n",
    "if gift_wrap_for_Product_B==\"yes\":\n",
    "    wrap_B=count_of_product_B\n",
    "else:\n",
    "    wrap_B=0\n",
    "if gift_wrap_for_Product_C==\"yes\":\n",
    "    wrap_C=count_of_product_C\n",
    "else:\n",
    "    wrap_C=0"
   ]
  },
  {
   "cell_type": "code",
   "execution_count": 7,
   "id": "8f265fd9",
   "metadata": {},
   "outputs": [
    {
     "data": {
      "text/plain": [
       "27"
      ]
     },
     "execution_count": 7,
     "metadata": {},
     "output_type": "execute_result"
    }
   ],
   "source": [
    "total_gift_wrap_fee= wrap_A + wrap_B + wrap_C \n",
    "total_gift_wrap_fee"
   ]
  },
  {
   "cell_type": "markdown",
   "id": "7d9f5311",
   "metadata": {},
   "source": [
    "#### Cart Total"
   ]
  },
  {
   "cell_type": "code",
   "execution_count": 8,
   "id": "aeafb573",
   "metadata": {},
   "outputs": [
    {
     "data": {
      "text/plain": [
       "1260"
      ]
     },
     "execution_count": 8,
     "metadata": {},
     "output_type": "execute_result"
    }
   ],
   "source": [
    "cart_total"
   ]
  },
  {
   "cell_type": "markdown",
   "id": "521918dd",
   "metadata": {},
   "source": [
    "#### Total Quantity of Products"
   ]
  },
  {
   "cell_type": "code",
   "execution_count": 9,
   "id": "bf4ced10",
   "metadata": {},
   "outputs": [
    {
     "data": {
      "text/plain": [
       "36"
      ]
     },
     "execution_count": 9,
     "metadata": {},
     "output_type": "execute_result"
    }
   ],
   "source": [
    "total_quantity"
   ]
  },
  {
   "cell_type": "code",
   "execution_count": 10,
   "id": "80090528",
   "metadata": {},
   "outputs": [],
   "source": [
    "def flat_10_discount(cart_total):\n",
    "    if cart_total > 200:\n",
    "        cart_total -= 10\n",
    "    return cart_total"
   ]
  },
  {
   "cell_type": "markdown",
   "id": "cc6b2c7b",
   "metadata": {},
   "source": [
    "#### Total Price after applying 1st discount"
   ]
  },
  {
   "cell_type": "code",
   "execution_count": 11,
   "id": "82207cf3",
   "metadata": {},
   "outputs": [],
   "source": [
    "#1st discount :\"flat_10_discount\" If cart total exceeds $200, apply a flat $10 discount on the cart total."
   ]
  },
  {
   "cell_type": "code",
   "execution_count": 12,
   "id": "101306bf",
   "metadata": {},
   "outputs": [],
   "source": [
    "Total_Price1 = flat_10_discount(cart_total)"
   ]
  },
  {
   "cell_type": "code",
   "execution_count": 13,
   "id": "bdc16ec4",
   "metadata": {},
   "outputs": [
    {
     "data": {
      "text/plain": [
       "1250"
      ]
     },
     "execution_count": 13,
     "metadata": {},
     "output_type": "execute_result"
    }
   ],
   "source": [
    "Total_Price1"
   ]
  },
  {
   "cell_type": "code",
   "execution_count": 14,
   "id": "96369c43",
   "metadata": {},
   "outputs": [
    {
     "data": {
      "text/plain": [
       "15"
      ]
     },
     "execution_count": 14,
     "metadata": {},
     "output_type": "execute_result"
    }
   ],
   "source": [
    "maximum_quantity = max(count_of_product_A, count_of_product_B, count_of_product_C)\n",
    "maximum_quantity"
   ]
  },
  {
   "cell_type": "markdown",
   "id": "a07a5520",
   "metadata": {},
   "source": [
    "#### Total Price after applying 2nd discount"
   ]
  },
  {
   "cell_type": "code",
   "execution_count": 15,
   "id": "460dcf11",
   "metadata": {},
   "outputs": [],
   "source": [
    "#2nd discount \"bulk_5_discount\": If quantity of any single product exceeds 10 units, apply a 5% discount on that item's total price."
   ]
  },
  {
   "cell_type": "code",
   "execution_count": 16,
   "id": "019c3dee",
   "metadata": {},
   "outputs": [],
   "source": [
    "def compare(count_of_product_A, count_of_product_B, count_of_product_C):\n",
    "    if count_of_product_A > 10:\n",
    "        return count_of_product_A\n",
    "    elif count_of_product_B > 10:\n",
    "        return count_of_product_B\n",
    "    elif count_of_product_C > 10:\n",
    "        return count_of_product_C\n",
    "    else:\n",
    "        return None\n",
    "\n",
    "maximum_quantity = max(count_of_product_A, count_of_product_B, count_of_product_C)\n",
    "\n",
    "if maximum_quantity == count_of_product_A:\n",
    "    discount_amount = total_price_of_product_A * 0.05\n",
    "    price_of_Product=20\n",
    "    Total_Price2 = cart_total - discount_amount\n",
    "elif maximum_quantity == count_of_product_B:\n",
    "    discount_amount = total_price_of_product_B * 0.05\n",
    "    price_of_Product=40\n",
    "    Total_Price2 = cart_total - discount_amount\n",
    "elif maximum_quantity == count_of_product_C:\n",
    "    discount_amount = total_price_of_product_C * 0.05\n",
    "    price_of_Product=50\n",
    "    Total_Price2 = cart_total - discount_amount\n",
    "else:\n",
    "    \n",
    "    discount_amount = cart_total * 0.05\n",
    "    Total_Price2 = cart_total - discount_amount"
   ]
  },
  {
   "cell_type": "code",
   "execution_count": 17,
   "id": "87020536",
   "metadata": {},
   "outputs": [
    {
     "data": {
      "text/plain": [
       "1245.0"
      ]
     },
     "execution_count": 17,
     "metadata": {},
     "output_type": "execute_result"
    }
   ],
   "source": [
    "Total_Price2"
   ]
  },
  {
   "cell_type": "code",
   "execution_count": 18,
   "id": "41c1ec70",
   "metadata": {},
   "outputs": [
    {
     "name": "stdout",
     "output_type": "stream",
     "text": [
      "Total price: $1245.0\n"
     ]
    }
   ],
   "source": [
    "if Total_Price1 > Total_Price2:\n",
    "    print(f\"Total price: ${Total_Price2}\")\n",
    "else:\n",
    "    print(f\"Total price: ${Total_Price1}\")\n",
    "    "
   ]
  },
  {
   "cell_type": "markdown",
   "id": "23f98369",
   "metadata": {},
   "source": [
    "#### Total Price after applying 3rd discount"
   ]
  },
  {
   "cell_type": "code",
   "execution_count": 19,
   "id": "567ab47c",
   "metadata": {},
   "outputs": [],
   "source": [
    "#3rd discount : \"bulk_10_discount\"  If total quantity exceeds 20 units, apply a 10% discount on the cart total."
   ]
  },
  {
   "cell_type": "code",
   "execution_count": 20,
   "id": "0f723497",
   "metadata": {},
   "outputs": [],
   "source": [
    "def bulk_10_discount(total_quantity):\n",
    "    if total_quantity > 20:\n",
    "        discount_amount3 = cart_total* 0.10\n",
    "        Total_Price3 = cart_total - discount_amount3\n",
    "        return Total_Price3\n",
    "    else:\n",
    "        return cart_total * 0.10\n",
    "discount_amount3 = cart_total* 0.10\n",
    "Total_Price3 = cart_total - discount_amount3"
   ]
  },
  {
   "cell_type": "code",
   "execution_count": 21,
   "id": "8312c154",
   "metadata": {},
   "outputs": [
    {
     "data": {
      "text/plain": [
       "1134.0"
      ]
     },
     "execution_count": 21,
     "metadata": {},
     "output_type": "execute_result"
    }
   ],
   "source": [
    "Total_Price3"
   ]
  },
  {
   "cell_type": "markdown",
   "id": "1211bbd5",
   "metadata": {},
   "source": [
    "#### Total Price after applying 4th discount"
   ]
  },
  {
   "cell_type": "code",
   "execution_count": 22,
   "id": "643e3c28",
   "metadata": {},
   "outputs": [],
   "source": [
    "#4th discount :\"tiered_50_discount\" If total quantity exceeds 30 units & any single product quantity greater than 15, \n",
    "#then apply a 50% discount on products which are above  15 quantity. The first 15 quantity have the original price and unit above 15 will get 50% discount."
   ]
  },
  {
   "cell_type": "code",
   "execution_count": 23,
   "id": "e09541cd",
   "metadata": {},
   "outputs": [],
   "source": [
    "Total_Price4 = cart_total- (maximum_quantity - 15) *(price_of_Product)* 0.5\n",
    "def tiered_50_discount(total_quantity, maximum_quantity):\n",
    "    if total_quantity > 30 & maximum_quantity > 15:\n",
    "        print(Total_Price4)\n",
    "    else:\n",
    "        return Total_Price4"
   ]
  },
  {
   "cell_type": "code",
   "execution_count": 24,
   "id": "55444921",
   "metadata": {},
   "outputs": [
    {
     "data": {
      "text/plain": [
       "1260.0"
      ]
     },
     "execution_count": 24,
     "metadata": {},
     "output_type": "execute_result"
    }
   ],
   "source": [
    "Total_Price4"
   ]
  },
  {
   "cell_type": "markdown",
   "id": "02db6a48",
   "metadata": {},
   "source": [
    "#### finding most beneficial discount for the costumer"
   ]
  },
  {
   "cell_type": "code",
   "execution_count": 25,
   "id": "c7855047",
   "metadata": {},
   "outputs": [
    {
     "name": "stdout",
     "output_type": "stream",
     "text": [
      "Total price3: $1134.0\n"
     ]
    }
   ],
   "source": [
    "price_after_maximum_discount = min(Total_Price1, Total_Price2, Total_Price3,Total_Price4)\n",
    "\n",
    "if price_after_maximum_discount == Total_Price1:\n",
    "    discount_name=\"flat_10_discount\"\n",
    "    discount_amount=cart_total-Total_Price1\n",
    "    print(f\"Total price1: ${Total_Price1}\")\n",
    "if price_after_maximum_discount == Total_Price2:\n",
    "    discount_name=\"bulk_5_discount\"\n",
    "    discount_amount=cart_total-Total_Price2\n",
    "    print(f\"Total price2: ${Total_Price2}\")\n",
    "if price_after_maximum_discount == Total_Price3:\n",
    "    discount_name=\"bulk_10_discount\"\n",
    "    discount_amount=cart_total-Total_Price3\n",
    "    print(f\"Total price3: ${Total_Price3}\")\n",
    "if price_after_maximum_discount == Total_Price4:\n",
    "    discount_name=\"tiered_50_discount\"\n",
    "    discount_amount=cart_total-Total_Price4\n",
    "    print(f\"Total price4: ${Total_Price4}\")"
   ]
  },
  {
   "cell_type": "code",
   "execution_count": 26,
   "id": "cdcda0c5",
   "metadata": {},
   "outputs": [
    {
     "name": "stdout",
     "output_type": "stream",
     "text": [
      "PRODUCT A: 15 units : Total amount= $300\n",
      "PRODUCT B: 9 units : Total amount= $360\n",
      "PRODUCT C: 12 units : Total amount= $600\n",
      "SUB TOTAL: $1260\n",
      "you got bulk_10_discount, discount amount is $126.0\n",
      "Gift Wrap Fee: $27\n",
      "Shipping Fee: $20\n",
      "Total price: $1181.0\n"
     ]
    }
   ],
   "source": [
    "# Calculating shipping Fee\n",
    "def calculate_shipping_fee(total_quantity):\n",
    "    package_count = total_quantity // 10  \n",
    "    if total_quantity % 10 != 0:  \n",
    "        package_count += 1\n",
    "    shipping_fee = package_count * 5\n",
    "    return shipping_fee\n",
    "\n",
    "shipping_fee = calculate_shipping_fee(total_quantity)\n",
    "\n",
    "total_price_after_discount = price_after_maximum_discount + total_gift_wrap_fee + shipping_fee\n",
    "\n",
    "print(f\"PRODUCT A: {count_of_product_A} units : Total amount= ${total_price_of_product_A}\")\n",
    "print(f\"PRODUCT B: {count_of_product_B} units : Total amount= ${total_price_of_product_B}\")\n",
    "print(f\"PRODUCT C: {count_of_product_C} units : Total amount= ${total_price_of_product_C}\")\n",
    "print(f\"SUB TOTAL: ${cart_total}\")\n",
    "print(f\"you got {discount_name}, discount amount is ${discount_amount}\")\n",
    "    \n",
    "print(f\"Gift Wrap Fee: ${total_gift_wrap_fee}\")\n",
    "print(f\"Shipping Fee: ${shipping_fee}\")\n",
    "print(f\"Total price: ${total_price_after_discount}\")"
   ]
  },
  {
   "cell_type": "code",
   "execution_count": null,
   "id": "48a07ce0",
   "metadata": {},
   "outputs": [],
   "source": []
  }
 ],
 "metadata": {
  "kernelspec": {
   "display_name": "Python 3 (ipykernel)",
   "language": "python",
   "name": "python3"
  },
  "language_info": {
   "codemirror_mode": {
    "name": "ipython",
    "version": 3
   },
   "file_extension": ".py",
   "mimetype": "text/x-python",
   "name": "python",
   "nbconvert_exporter": "python",
   "pygments_lexer": "ipython3",
   "version": "3.9.13"
  }
 },
 "nbformat": 4,
 "nbformat_minor": 5
}
